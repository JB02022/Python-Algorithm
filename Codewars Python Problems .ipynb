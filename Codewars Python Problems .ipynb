{
 "cells": [
  {
   "cell_type": "markdown",
   "id": "85cb7ecc",
   "metadata": {},
   "source": [
    "In this file, I problem-solve some exericise that I found on the Codewars website.\n",
    "\n",
    "The format is as follow:\n",
    "    1. Problems\n",
    "    2. Solution"
   ]
  },
  {
   "cell_type": "markdown",
   "id": "696fa767",
   "metadata": {},
   "source": [
    "Problem #1:\n",
    "\n",
    "Some numbers have funny properties. For example:\n",
    "\n",
    "89 --> 8¹ + 9² = 89 * 1\n",
    "\n",
    "695 --> 6² + 9³ + 5⁴= 1390 = 695 * 2\n",
    "\n",
    "46288 --> 4³ + 6⁴+ 2⁵ + 8⁶ + 8⁷ = 2360688 = 46288 * 51\n",
    "\n",
    "Given a positive integer n written as abcd... (a, b, c, d... being digits) and a positive integer p\n",
    "\n",
    "we want to find a positive integer k, if it exists, such as the sum of the digits of n taken to the successive powers of p is equal to k * n.\n",
    "In other words:\n",
    "\n",
    "Is there an integer k such as : (a ^ p + b ^ (p+1) + c ^(p+2) + d ^ (p+3) + ...) = n * k\n",
    "\n",
    "If it is the case we will return k, if not return -1.\n",
    "\n",
    "dig_pow(89, 1) should return 1 since 8¹ + 9² = 89 = 89 * 1\n",
    "dig_pow(92, 1) should return -1 since there is no k such as 9¹ + 2² equals 92 * k\n",
    "dig_pow(695, 2) should return 2 since 6² + 9³ + 5⁴= 1390 = 695 * 2\n",
    "dig_pow(46288, 3) should return 51 since 4³ + 6⁴+ 2⁵ + 8⁶ + 8⁷ = 2360688 = 46288 * 51"
   ]
  },
  {
   "cell_type": "code",
   "execution_count": 5,
   "id": "3ae2a8b7",
   "metadata": {},
   "outputs": [
    {
     "name": "stdout",
     "output_type": "stream",
     "text": [
      "1\n",
      "-1\n",
      "2\n",
      "51\n"
     ]
    }
   ],
   "source": [
    "#Solution to Problem #1:\n",
    "def dig_pow(n, p):\n",
    "    o = str(n)\n",
    "    k = []\n",
    "    op = 0\n",
    "    po = 0\n",
    "    for u in o:\n",
    "        u = int(u)\n",
    "        k.append(u)\n",
    "        \n",
    "    while True:\n",
    "        try:\n",
    "            po += k[op]**(p+op)\n",
    "            op+=1\n",
    "        except:\n",
    "            break\n",
    "            \n",
    "    asd = po/n\n",
    "    \n",
    "    if asd >=1:\n",
    "        if int(asd) ==asd:\n",
    "            return (int(asd))\n",
    "        elif int(asd) != asd:\n",
    "            return -1\n",
    "    else:\n",
    "        return -1\n",
    "    \n",
    "print(dig_pow(89, 1))\n",
    "print(dig_pow(92, 1))\n",
    "print(dig_pow(695, 2))\n",
    "print(dig_pow(46288, 3))"
   ]
  },
  {
   "cell_type": "markdown",
   "id": "12bcdb23",
   "metadata": {},
   "source": [
    "Problem #2:\n",
    "\n",
    "Given an array of integers, find the one that appears an odd number of times.\n",
    "\n",
    "There will always be only one integer that appears an odd number of times.\n",
    "\n",
    "[7] should return 7, because it occurs 1 time (which is odd).\n",
    "[0] should return 0, because it occurs 1 time (which is odd).\n",
    "[1,1,2] should return 2, because it occurs 1 time (which is odd).\n",
    "[0,1,0,1,0] should return 0, because it occurs 3 times (which is odd).\n",
    "[1,2,2,3,3,3,4,3,3,3,2,2,1] should return 4, because it appears 1 time (which is odd)."
   ]
  },
  {
   "cell_type": "code",
   "execution_count": 11,
   "id": "c568961b",
   "metadata": {},
   "outputs": [
    {
     "name": "stdout",
     "output_type": "stream",
     "text": [
      "7\n",
      "0\n",
      "2\n",
      "0\n",
      "4\n"
     ]
    }
   ],
   "source": [
    "#Solution to Problem #2:\n",
    "\n",
    "def find_it(seq):\n",
    "    a = sorted(set(seq),key=seq.index)\n",
    "    x = 0\n",
    "    while True:\n",
    "        if seq.count(a[x]) %2 !=0:\n",
    "            return a[x]\n",
    "            break\n",
    "        elif seq.count(a[x])%2 ==0:\n",
    "            x+=1\n",
    "\n",
    "print(find_it([7]))\n",
    "print(find_it([0]))\n",
    "print(find_it([1,1,2]))\n",
    "print(find_it([0,1,0,1,0]))\n",
    "print(find_it([1,2,2,3,3,3,4,3,3,3,2,2,1]))"
   ]
  },
  {
   "cell_type": "markdown",
   "id": "cded4cc4",
   "metadata": {},
   "source": [
    "Problem #3:\n",
    "\n",
    "An isogram is a word that has no repeating letters, consecutive or non-consecutive. Implement a function that determines\n",
    "whether a string that contains only letters is an isogram. Assume the empty string is an isogram. Ignore letter case.\n",
    "\n",
    "\"Dermatoglyphics\" --> true\n",
    "\"aba\" --> false\n",
    "\"moOse\" --> false (ignore letter casing)"
   ]
  },
  {
   "cell_type": "code",
   "execution_count": 13,
   "id": "765c8bca",
   "metadata": {},
   "outputs": [
    {
     "name": "stdout",
     "output_type": "stream",
     "text": [
      "True\n",
      "False\n",
      "False\n"
     ]
    }
   ],
   "source": [
    "#Solution to Problem #3:\n",
    "\n",
    "def is_isogram(string):\n",
    "    string = string.lower()\n",
    "    ax = sorted(set(string),key=string.index)\n",
    "    asd = ''.join(ax)\n",
    "\n",
    "    if string == '':\n",
    "        return True\n",
    "    elif string == asd:\n",
    "        return True\n",
    "    else:\n",
    "        return False\n",
    "    \n",
    "print(is_isogram(\"Dermatoglyphics\"))\n",
    "print(is_isogram(\"aba\"))\n",
    "print(is_isogram(\"moOse\"))"
   ]
  },
  {
   "cell_type": "markdown",
   "id": "9d377bd6",
   "metadata": {},
   "source": [
    "Problem #4:\n",
    "\n",
    "You will be given an array of numbers. You have to sort the odd numbers in ascending order while leaving the even numbers at their original positions.\n",
    "\n",
    "[7, 1]  =>  [1, 7]\n",
    "[5, 8, 6, 3, 4]  =>  [3, 8, 6, 5, 4]\n",
    "[9, 8, 7, 6, 5, 4, 3, 2, 1, 0]  =>  [1, 8, 3, 6, 5, 4, 7, 2, 9, 0]"
   ]
  },
  {
   "cell_type": "code",
   "execution_count": 15,
   "id": "d9b8454d",
   "metadata": {},
   "outputs": [
    {
     "name": "stdout",
     "output_type": "stream",
     "text": [
      "[1, 7]\n",
      "[3, 8, 6, 5, 4]\n",
      "[1, 8, 3, 6, 5, 4, 7, 2, 9, 0]\n"
     ]
    }
   ],
   "source": [
    "#Solution to Problem #4:\n",
    "def sort_array(source_array):\n",
    "    b = []\n",
    "    c = 0\n",
    "    d = 0\n",
    "    for xx in source_array:\n",
    "        if xx%2 !=0:\n",
    "            b.append(xx)\n",
    "    b.sort()\n",
    "\n",
    "    while True:\n",
    "        try:\n",
    "            if source_array[c]%2 !=0:\n",
    "                source_array[c] = b[d]\n",
    "                c+=1\n",
    "                d+=1\n",
    "            else:\n",
    "                c+=1\n",
    "        except:\n",
    "            return source_array\n",
    "            break\n",
    "            \n",
    "print(sort_array([7, 1]))\n",
    "print(sort_array([5, 8, 6, 3, 4]))\n",
    "print(sort_array([9, 8, 7, 6, 5, 4, 3, 2, 1, 0]))"
   ]
  },
  {
   "cell_type": "markdown",
   "id": "2f07a688",
   "metadata": {},
   "source": [
    "Problem #5:\n",
    "\n",
    "Create a function that returns the sum of the two lowest positive numbers given an array of minimum 4 positive integers. No floats or non-positive integers will be passed.\n",
    "\n",
    "For example, when an array is passed like [19, 5, 42, 2, 77], the output should be 7.\n",
    "\n",
    "[10, 343445353, 3453445, 3453545353453] should return 3453455."
   ]
  },
  {
   "cell_type": "code",
   "execution_count": 34,
   "id": "1ab2034c",
   "metadata": {},
   "outputs": [
    {
     "name": "stdout",
     "output_type": "stream",
     "text": [
      "7\n",
      "3453455\n",
      "7\n",
      "3453455\n"
     ]
    }
   ],
   "source": [
    "#Solution to Problem #5:\n",
    "\n",
    "def Alternative(numbers):\n",
    "    number = sorted(set(numbers)) \n",
    "    two_smallest_numbers = number[0]+number[1]\n",
    "    return two_smallest_numbers\n",
    "\n",
    "print(Alternative([19, 5, 42, 2, 77]))\n",
    "print(Alternative([10, 343445353, 3453445, 3453545353453]))\n",
    "\n",
    "#Alternative solution:\n",
    "    \n",
    "def sum_two_smallest_numbers(numbers):\n",
    "    h = numbers[0]\n",
    "    j = numbers[1]\n",
    "    x=2\n",
    "    while True:\n",
    "        try:\n",
    "            if numbers[x] < h:\n",
    "                if h <j:\n",
    "                    j = h\n",
    "                h = numbers[x]\n",
    "                x+=1\n",
    "            elif numbers[x] < j:\n",
    "                if j <h:\n",
    "                    h = j\n",
    "                j = numbers[x]\n",
    "                x+=1\n",
    "            else:\n",
    "                x+=1\n",
    "        except:\n",
    "            return h+j\n",
    "            break\n",
    "            \n",
    "print(sum_two_smallest_numbers([19, 5, 42, 2, 77]))\n",
    "print(sum_two_smallest_numbers([10, 343445353, 3453445, 3453545353453]))"
   ]
  },
  {
   "cell_type": "markdown",
   "id": "fbdc9393",
   "metadata": {},
   "source": [
    "Problem #6:\n",
    "\n",
    "If we list all the natural numbers below 10 that are multiples of 3 or 5, we get 3, 5, 6 and 9. The sum of these multiples is 23.\n",
    "\n",
    "Finish the solution so that it returns the sum of all the multiples of 3 or 5 below the number passed in. Additionally, if the number is negative, return 0 (for languages that do have them).\n",
    "\n",
    "Note: If the number is a multiple of both 3 and 5, only count it once."
   ]
  },
  {
   "cell_type": "code",
   "execution_count": 36,
   "id": "3edbc62b",
   "metadata": {},
   "outputs": [
    {
     "name": "stdout",
     "output_type": "stream",
     "text": [
      "233168\n"
     ]
    }
   ],
   "source": [
    "#Solution to Problem #6:\n",
    "\n",
    "def solution(number):\n",
    "    k = 0\n",
    "    j = 0\n",
    "    jj = 0\n",
    "    while True:\n",
    "        if number <= 0:\n",
    "            return 0\n",
    "            break\n",
    "        elif k < number:\n",
    "            if k % 3 == 0 or k % 5 ==0:\n",
    "                j+=k\n",
    "                k+=1\n",
    "            else:\n",
    "                k+=1\n",
    "        else:\n",
    "            return j\n",
    "            break\n",
    "\n",
    "print(solution(1000))"
   ]
  }
 ],
 "metadata": {
  "kernelspec": {
   "display_name": "Python 3",
   "language": "python",
   "name": "python3"
  },
  "language_info": {
   "codemirror_mode": {
    "name": "ipython",
    "version": 3
   },
   "file_extension": ".py",
   "mimetype": "text/x-python",
   "name": "python",
   "nbconvert_exporter": "python",
   "pygments_lexer": "ipython3",
   "version": "3.8.8"
  }
 },
 "nbformat": 4,
 "nbformat_minor": 5
}
